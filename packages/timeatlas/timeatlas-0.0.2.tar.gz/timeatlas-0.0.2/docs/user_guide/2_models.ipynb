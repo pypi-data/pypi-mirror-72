{
 "cells": [
  {
   "cell_type": "code",
   "execution_count": 5,
   "metadata": {
    "pycharm": {
     "name": "#%% Import\n"
    }
   },
   "outputs": [],
   "source": [
    "import timeatlas as ta\n",
    "from timeatlas import TimeSeries, Metadata\n",
    "from timeatlas import models\n",
    "from pandas import Series, DatetimeIndex\n",
    "import pandas as pd\n",
    "import os\n",
    "from pathlib import Path\n",
    "import fbprophet"
   ]
  },
  {
   "cell_type": "markdown",
   "metadata": {
    "pycharm": {
     "name": "#%% md\n"
    }
   },
   "source": [
    "---\n",
    "# Models\n",
    "\n",
    "How to create models with TimeAtlas? At first let's create a TimeSeries."
   ]
  },
  {
   "cell_type": "code",
   "execution_count": 7,
   "metadata": {
    "pycharm": {
     "name": "#%%\n"
    }
   },
   "outputs": [
    {
     "data": {
      "text/plain": [
       "<timeatlas.time_series.time_series.TimeSeries at 0x7fc8947ba850>"
      ]
     },
     "execution_count": 7,
     "metadata": {},
     "output_type": "execute_result"
    }
   ],
   "source": [
    "index = DatetimeIndex(['2019-01-01', '2019-01-02', '2019-01-03', '2019-01-04'])\n",
    "my_series = Series([0.4, 1.0, 0.7, 0.6], index=index)\n",
    "ts = TimeSeries(my_series)\n",
    "ts"
   ]
  },
  {
   "cell_type": "markdown",
   "metadata": {},
   "source": [
    "## Grammar\n",
    "\n",
    "Some definitions:\n",
    "\n",
    "- `time series` : self-explanatory, i.e. the TimeSeries object\n",
    "- `horizon` : the duration to predict after the last value of the time series\n",
    "- `frequency`: the number of values per unit of time. Usually, the frequency is given in Pandas offset aliases (https://pandas.pydata.org/pandas-docs/stable/user_guide/timeseries.html#offset-aliases)\n",
    "\n",
    "```\n",
    "                                horizon\n",
    "   |-------------------------|- - - - - -|\n",
    "                             |||||||||||||\n",
    "           time series         frequency\n",
    "\n",
    "```"
   ]
  },
  {
   "cell_type": "code",
   "execution_count": null,
   "metadata": {
    "pycharm": {
     "name": "#%%\n"
    }
   },
   "outputs": [],
   "source": [
    "m = models.Prophet()"
   ]
  },
  {
   "cell_type": "code",
   "execution_count": null,
   "metadata": {
    "pycharm": {
     "name": "#%%\n"
    }
   },
   "outputs": [],
   "source": [
    "m.fit(ts)"
   ]
  },
  {
   "cell_type": "code",
   "execution_count": null,
   "metadata": {
    "pycharm": {
     "name": "#%%\n"
    }
   },
   "outputs": [],
   "source": [
    "Y_hat = m.predict('4 days')"
   ]
  },
  {
   "cell_type": "code",
   "execution_count": null,
   "metadata": {
    "pycharm": {
     "name": "#%%\n"
    }
   },
   "outputs": [],
   "source": [
    "m.X_train.plot()\n",
    "Y_hat.plot()"
   ]
  },
  {
   "cell_type": "markdown",
   "metadata": {
    "pycharm": {
     "name": "#%% md\n"
    }
   },
   "source": [
    "# NN-Models"
   ]
  },
  {
   "cell_type": "markdown",
   "metadata": {
    "pycharm": {
     "name": "#%% md\n"
    }
   },
   "source": [
    "### MLP Classification"
   ]
  },
  {
   "cell_type": "code",
   "execution_count": 4,
   "metadata": {
    "pycharm": {
     "name": "#%%\n"
    }
   },
   "outputs": [],
   "source": [
    "from pandas import Series, DatetimeIndex\n",
    "from torch.utils.data import DataLoader\n",
    "from timeatlas import TimeSeriesDataset, TimeSeries\n",
    "from timeatlas.models.NN.dataset import TimeSeriesClassificationDataset"
   ]
  },
  {
   "cell_type": "markdown",
   "metadata": {},
   "source": [
    "Creating some data to show the concept of LSTM classification in timeatlas"
   ]
  },
  {
   "cell_type": "code",
   "execution_count": 5,
   "metadata": {
    "pycharm": {
     "name": "#%%\n"
    }
   },
   "outputs": [],
   "source": [
    "index = DatetimeIndex(['2019-01-01', '2019-01-02', '2019-01-03', '2019-01-04'])\n",
    "my_series = Series([0.4, 1.0, 0.7, 0.6], index=index)\n",
    "my_series2 = Series([1.0, 2.1, 1.7, 1.6], index=index)\n",
    "ts = TimeSeries(my_series)\n",
    "ts2 = TimeSeries(my_series2)\n",
    "ts.label, ts2.label = 1, 2\n",
    "tsd = TimeSeriesDataset(data=[ts, ts2])"
   ]
  },
  {
   "cell_type": "code",
   "execution_count": 6,
   "metadata": {
    "pycharm": {
     "name": "#%%\n"
    }
   },
   "outputs": [
    {
     "data": {
      "text/plain": [
       "array([[0.4, 1. , 0.7, 0.6],\n",
       "       [1. , 2.1, 1.7, 1.6]])"
      ]
     },
     "execution_count": 6,
     "metadata": {},
     "output_type": "execute_result"
    }
   ],
   "source": [
    "dataset = TimeSeriesClassificationDataset(tsd)\n",
    "dataloader = DataLoader(dataset, batch_size=2)\n",
    "\n",
    "dataset.data"
   ]
  },
  {
   "cell_type": "markdown",
   "metadata": {},
   "source": [
    "Normalizations of the dataset"
   ]
  },
  {
   "cell_type": "code",
   "execution_count": 7,
   "metadata": {},
   "outputs": [
    {
     "data": {
      "text/plain": [
       "array([[0.        , 0.35294118, 0.17647059, 0.11764706],\n",
       "       [0.35294118, 1.        , 0.76470588, 0.70588235]])"
      ]
     },
     "execution_count": 7,
     "metadata": {},
     "output_type": "execute_result"
    }
   ],
   "source": [
    "dataset.min_max_norm()\n"
   ]
  },
  {
   "cell_type": "code",
   "execution_count": 8,
   "metadata": {},
   "outputs": [
    {
     "data": {
      "text/plain": [
       "array([[-1.31436046, -0.24505026, -0.77970536, -0.95792373],\n",
       "       [-0.24505026,  1.71535179,  1.00247832,  0.82425995]])"
      ]
     },
     "execution_count": 8,
     "metadata": {},
     "output_type": "execute_result"
    }
   ],
   "source": [
    "dataset.z_score_norm()"
   ]
  },
  {
   "cell_type": "code",
   "execution_count": 9,
   "metadata": {},
   "outputs": [
    {
     "data": {
      "text/plain": [
       "<torch.utils.data.dataloader.DataLoader at 0x7fde182b6b90>"
      ]
     },
     "execution_count": 9,
     "metadata": {},
     "output_type": "execute_result"
    }
   ],
   "source": [
    "dataloader"
   ]
  },
  {
   "cell_type": "markdown",
   "metadata": {},
   "source": [
    "THE CLASSIFICATION IS NOT IMPLEMENTED YET"
   ]
  },
  {
   "cell_type": "code",
   "execution_count": 10,
   "metadata": {
    "pycharm": {
     "name": "#%%\n"
    }
   },
   "outputs": [
    {
     "name": "stdout",
     "output_type": "stream",
     "text": [
      "[tensor([[0.4000, 1.0000, 0.7000, 0.6000],\n",
      "        [1.0000, 2.1000, 1.7000, 1.6000]], dtype=torch.float64), tensor([1, 2])]\n"
     ]
    }
   ],
   "source": [
    "for i in dataloader:\n",
    "    print(i)"
   ]
  },
  {
   "cell_type": "markdown",
   "metadata": {
    "pycharm": {
     "name": "#%% md\n"
    }
   },
   "source": [
    "### LSTM Prediction\n",
    "\n",
    "Prediciton of the future steps using a LSTM model."
   ]
  },
  {
   "cell_type": "code",
   "execution_count": 1,
   "metadata": {},
   "outputs": [],
   "source": [
    "from pandas import Series, DatetimeIndex\n",
    "from torch.utils.data import DataLoader\n",
    "from timeatlas import TimeSeriesDataset, TimeSeries\n",
    "from timeatlas.models.lstm import LSTMPrediction\n",
    "from timeatlas.models.NN import TimeSeriesPredictionDataset\n",
    "\n",
    "import torch.nn as nn\n",
    "import torch\n",
    "\n",
    "\n",
    "import numpy as np\n",
    "import datetime"
   ]
  },
  {
   "cell_type": "markdown",
   "metadata": {},
   "source": [
    "Creating some data to show the concept of LSTM prediction in timeatlas"
   ]
  },
  {
   "cell_type": "code",
   "execution_count": 2,
   "metadata": {
    "pycharm": {
     "name": "#%%\n"
    }
   },
   "outputs": [],
   "source": [
    "index = DatetimeIndex(['2019-01-01', '2019-01-02', '2019-01-03', '2019-01-04'])\n",
    "my_series = Series([0.4, 1.0, 0.7, 0.6], index=index)\n",
    "ts = TimeSeries(my_series)\n",
    "tsd = TimeSeriesDataset(data=[ts, ts])"
   ]
  },
  {
   "cell_type": "markdown",
   "metadata": {},
   "source": [
    "Creating the dataset and the dataloader"
   ]
  },
  {
   "cell_type": "code",
   "execution_count": 3,
   "metadata": {
    "pycharm": {
     "name": "#%%\n"
    }
   },
   "outputs": [
    {
     "data": {
      "text/plain": [
       "array([[0.4, 1. , 0.7],\n",
       "       [0.4, 1. , 0.7]])"
      ]
     },
     "execution_count": 3,
     "metadata": {},
     "output_type": "execute_result"
    }
   ],
   "source": [
    "dataset = TimeSeriesPredictionDataset(timeseriesdataset=tsd, n=3)\n",
    "dataloader = DataLoader(dataset, batch_size=2)\n",
    "dataset.data"
   ]
  },
  {
   "cell_type": "markdown",
   "metadata": {},
   "source": [
    "Creating an instance for the LSTM. Here we make the big difference between the workflow of classification, prediction etc.\n"
   ]
  },
  {
   "cell_type": "code",
   "execution_count": 4,
   "metadata": {
    "pycharm": {
     "name": "#%%\n"
    }
   },
   "outputs": [],
   "source": [
    "model = LSTMPrediction(n_features=1,\n",
    "                       n_hidden=10,\n",
    "                       seq_len=3,\n",
    "                       n_layers=10,\n",
    "                       dropout=0.1,\n",
    "                       horizon=1,\n",
    "                       epochs=100,\n",
    "                       optimizer=torch.optim.Adam,\n",
    "                       loss_function=nn.MSELoss(),\n",
    "                       lr=0.001).double()\n"
   ]
  },
  {
   "cell_type": "code",
   "execution_count": 6,
   "metadata": {},
   "outputs": [
    {
     "name": "stdout",
     "output_type": "stream",
     "text": [
      "epoch:   0 loss: 0.66203237\n",
      "epoch:  10 loss: 0.60827542\n",
      "epoch:  20 loss: 0.55400575\n",
      "epoch:  30 loss: 0.49488815\n",
      "epoch:  40 loss: 0.43071164\n",
      "epoch:  50 loss: 0.36785459\n",
      "epoch:  60 loss: 0.28504256\n",
      "epoch:  70 loss: 0.19262113\n",
      "epoch:  80 loss: 0.12262478\n",
      "epoch:  90 loss: 0.02899924\n",
      "epoch:  99 loss: 0.0041826609\n"
     ]
    }
   ],
   "source": [
    "model.fit(dataloader)"
   ]
  },
  {
   "cell_type": "code",
   "execution_count": 11,
   "metadata": {},
   "outputs": [
    {
     "data": {
      "text/plain": [
       "[<matplotlib.lines.Line2D at 0x7fafd845e990>]"
      ]
     },
     "execution_count": 11,
     "metadata": {},
     "output_type": "execute_result"
    },
    {
     "data": {
      "image/png": "[encoded data removed]",
      "text/plain": [
       "<Figure size 432x288 with 1 Axes>"
      ]
     },
     "metadata": {
      "needs_background": "light"
     },
     "output_type": "display_data"
    }
   ],
   "source": [
    "import matplotlib.pyplot as plt\n",
    "\n",
    "plt.plot(model.loss)"
   ]
  },
  {
   "cell_type": "code",
   "execution_count": null,
   "metadata": {},
   "outputs": [],
   "source": []
  },
  {
   "cell_type": "markdown",
   "metadata": {},
   "source": [
    "Create the testset and dataloader. Make a prediction"
   ]
  },
  {
   "cell_type": "code",
   "execution_count": 9,
   "metadata": {},
   "outputs": [
    {
     "data": {
      "text/plain": [
       "[tensor([[1.2939]], dtype=torch.float64, grad_fn=<AddmmBackward>),\n",
       " tensor([[1.2999]], dtype=torch.float64, grad_fn=<AddmmBackward>)]"
      ]
     },
     "execution_count": 9,
     "metadata": {},
     "output_type": "execute_result"
    }
   ],
   "source": [
    "testset = DataLoader(dataset, batch_size=1)\n",
    "model.predict(horizon=1, testset=testset)"
   ]
  },
  {
   "cell_type": "code",
   "execution_count": null,
   "metadata": {},
   "outputs": [],
   "source": []
  },
  {
   "cell_type": "code",
   "execution_count": null,
   "metadata": {},
   "outputs": [],
   "source": []
  }
 ],
 "metadata": {
  "kernelspec": {
   "display_name": "PyCharm (timeatlas)",
   "language": "python",
   "name": "pycharm-9df7f84f"
  },
  "language_info": {
   "codemirror_mode": {
    "name": "ipython",
    "version": 3
   },
   "file_extension": ".py",
   "mimetype": "text/x-python",
   "name": "python",
   "nbconvert_exporter": "python",
   "pygments_lexer": "ipython3",
   "version": "3.7.5"
  }
 },
 "nbformat": 4,
 "nbformat_minor": 1
}