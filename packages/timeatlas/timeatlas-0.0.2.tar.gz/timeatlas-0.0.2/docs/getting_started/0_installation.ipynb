{
 "cells": [
  {
   "cell_type": "markdown",
   "metadata": {
    "pycharm": {
     "name": "#%% md\n"
    }
   },
   "source": [
    "# Installation\n",
    "\n",
    "## Python version support\n",
    "\n",
    "Python 3.7 and above. Older Python version support will not be provided."
   ]
  },
  {
   "cell_type": "markdown",
   "source": [
    "## Install with PyPI\n",
    "\n",
    "TimeAtlas can be installed with [PyPI](https://pypi.org/project/timeatlas/).\n",
    "\n",
    "```\n",
    "pip install timeatlas\n",
    "```\n"
   ],
   "metadata": {
    "collapsed": false,
    "pycharm": {
     "name": "#%% md\n"
    }
   }
  }
 ],
 "metadata": {
  "kernelspec": {
   "display_name": "Python 3",
   "language": "python",
   "name": "python3"
  },
  "language_info": {
   "codemirror_mode": {
    "name": "ipython",
    "version": 3
   },
   "file_extension": ".py",
   "mimetype": "text/x-python",
   "name": "python",
   "nbconvert_exporter": "python",
   "pygments_lexer": "ipython3",
   "version": "3.7.7"
  }
 },
 "nbformat": 4,
 "nbformat_minor": 1
}