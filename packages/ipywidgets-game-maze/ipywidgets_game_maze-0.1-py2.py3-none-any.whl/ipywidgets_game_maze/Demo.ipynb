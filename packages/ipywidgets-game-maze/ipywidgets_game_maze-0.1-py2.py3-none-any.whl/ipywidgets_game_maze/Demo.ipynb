{
 "cells": [
  {
   "cell_type": "markdown",
   "metadata": {},
   "source": [
    "# 3 dimentional Maze\n",
    "\n",
    "The goal of this game is to make an ant get out of a 3 dimentional game. In order to do so, the player has to execute the right instructions.\n",
    "\n",
    "__Example :__"
   ]
  },
  {
   "cell_type": "code",
   "execution_count": 1,
   "metadata": {},
   "outputs": [
    {
     "data": {
      "application/vnd.jupyter.widget-view+json": {
       "model_id": "0de0bdb8aa69459fbcf0e17b75fd3cf8",
       "version_major": 2,
       "version_minor": 0
      },
      "text/plain": [
       "Maze(children=(PlayerView(children=(Visualisation(children=(Renderer(camera=PerspectiveCamera(aspect=1.5, posi…"
      ]
     },
     "metadata": {},
     "output_type": "display_data"
    }
   ],
   "source": [
    "from ipywidgets_game_maze.__global__.en import *\n",
    "MAZE(level=0)"
   ]
  },
  {
   "cell_type": "markdown",
   "metadata": {},
   "source": [
    "If the ant hits a wall, the player looses, a message is displayed and all moves are blocked.\n",
    "\n",
    "Example :"
   ]
  },
  {
   "cell_type": "code",
   "execution_count": null,
   "metadata": {},
   "outputs": [],
   "source": [
    "left()\n",
    "move()\n",
    "right()\n",
    "right()\n",
    "move()"
   ]
  },
  {
   "cell_type": "markdown",
   "metadata": {},
   "source": [
    "Once the game is over (whether the player wins or loses), it is possible to start again with the following instruction :"
   ]
  },
  {
   "cell_type": "code",
   "execution_count": null,
   "metadata": {},
   "outputs": [],
   "source": [
    "reset()"
   ]
  },
  {
   "cell_type": "markdown",
   "metadata": {},
   "source": [
    "If the ant gets out of the maze without hitting any wall, a winning message is displayed.\n",
    "\n",
    "Example :"
   ]
  },
  {
   "cell_type": "code",
   "execution_count": null,
   "metadata": {},
   "outputs": [],
   "source": [
    "while look():\n",
    "    move()\n",
    "left()\n",
    "while look():\n",
    "    move()\n",
    "right()\n",
    "for i in range(0,4):\n",
    "    move()\n",
    "left()\n",
    "while look():\n",
    "    move()\n",
    "right()\n",
    "for i in range(0,5):\n",
    "    move()"
   ]
  },
  {
   "cell_type": "markdown",
   "metadata": {},
   "source": [
    "It is also possible to make the ant turn up or down with the instructions :\n",
    "* __up()__\n",
    "* __down()__\n",
    "\n",
    "When the ant looks up or doxn, the player may turn it to its last horizontal position with the instruction :\n",
    "* __horizontal()__\n",
    "\n",
    "The instruction __look()__ returns a boolean indicating whether the ant may move forward without hitting a wall."
   ]
  },
  {
   "cell_type": "code",
   "execution_count": null,
   "metadata": {},
   "outputs": [],
   "source": [
    "from ipywidgets_game_maze.__global__.fr import *"
   ]
  },
  {
   "cell_type": "code",
   "execution_count": null,
   "metadata": {},
   "outputs": [],
   "source": [
    "LABY3D(niveau=0)"
   ]
  },
  {
   "cell_type": "code",
   "execution_count": null,
   "metadata": {},
   "outputs": [],
   "source": [
    "while regarder():\n",
    "    avancer()\n",
    "gauche()\n",
    "while regarder():\n",
    "    avancer()\n",
    "droite()\n",
    "for i in range(0,4):\n",
    "    avancer()\n",
    "gauche()\n",
    "while regarder():\n",
    "    avancer()\n",
    "droite()\n",
    "for i in range(0,5):\n",
    "    avancer()"
   ]
  },
  {
   "cell_type": "code",
   "execution_count": null,
   "metadata": {},
   "outputs": [],
   "source": [
    "LABY3D(niveau=1)"
   ]
  },
  {
   "cell_type": "code",
   "execution_count": null,
   "metadata": {},
   "outputs": [],
   "source": [
    "while regarder():\n",
    "    avancer()\n",
    "droite()\n",
    "while regarder():\n",
    "    avancer()\n",
    "gauche()\n",
    "while regarder():\n",
    "    avancer()"
   ]
  },
  {
   "cell_type": "code",
   "execution_count": null,
   "metadata": {},
   "outputs": [],
   "source": [
    "gauche()\n",
    "avancer()\n",
    "droite()\n",
    "while regarder():\n",
    "    avancer()\n",
    "droite()\n",
    "while regarder():\n",
    "    avancer()\n",
    "droite()\n",
    "while regarder():\n",
    "    avancer()\n",
    "haut()\n",
    "while regarder():\n",
    "    avancer()"
   ]
  },
  {
   "cell_type": "code",
   "execution_count": null,
   "metadata": {},
   "outputs": [],
   "source": [
    "horizontale()"
   ]
  },
  {
   "cell_type": "code",
   "execution_count": null,
   "metadata": {},
   "outputs": [],
   "source": [
    "droite()\n",
    "droite()\n",
    "while regarder():\n",
    "    avancer()\n",
    "gauche()\n",
    "avancer()"
   ]
  },
  {
   "cell_type": "code",
   "execution_count": null,
   "metadata": {},
   "outputs": [],
   "source": [
    "avancer()\n",
    "gauche()\n",
    "droite()\n",
    "while regarder():\n",
    "    avancer()\n"
   ]
  },
  {
   "cell_type": "code",
   "execution_count": null,
   "metadata": {},
   "outputs": [],
   "source": [
    "restart()"
   ]
  },
  {
   "cell_type": "code",
   "execution_count": null,
   "metadata": {},
   "outputs": [],
   "source": []
  }
 ],
 "metadata": {
  "kernelspec": {
   "display_name": "Python 3",
   "language": "python",
   "name": "python3"
  },
  "language_info": {
   "codemirror_mode": {
    "name": "ipython",
    "version": 3
   },
   "file_extension": ".py",
   "mimetype": "text/x-python",
   "name": "python",
   "nbconvert_exporter": "python",
   "pygments_lexer": "ipython3",
   "version": "3.8.3"
  }
 },
 "nbformat": 4,
 "nbformat_minor": 4
}
