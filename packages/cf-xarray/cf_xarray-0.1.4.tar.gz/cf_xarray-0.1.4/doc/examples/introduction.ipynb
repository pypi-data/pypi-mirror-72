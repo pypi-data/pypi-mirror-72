{
 "cells": [
  {
   "cell_type": "markdown",
   "metadata": {
    "toc": true
   },
   "source": [
    "<h1>Table of Contents<span class=\"tocSkip\"></span></h1>\n",
    "<div class=\"toc\"><ul class=\"toc-item\"><li><span><a href=\"#Introduction-to-cf_xarray\" data-toc-modified-id=\"Introduction-to-cf_xarray-1\"><span class=\"toc-item-num\">1&nbsp;&nbsp;</span>Introduction to <code>cf_xarray</code></a></span><ul class=\"toc-item\"><li><span><a href=\"#What-attributes-have-been-discovered?\" data-toc-modified-id=\"What-attributes-have-been-discovered?-1.1\"><span class=\"toc-item-num\">1.1&nbsp;&nbsp;</span>What attributes have been discovered?</a></span></li><li><span><a href=\"#Feature:-Accessing-coordinate-variables\" data-toc-modified-id=\"Feature:-Accessing-coordinate-variables-1.2\"><span class=\"toc-item-num\">1.2&nbsp;&nbsp;</span>Feature: Accessing coordinate variables</a></span></li><li><span><a href=\"#Feature:-Rewriting-arguments\" data-toc-modified-id=\"Feature:-Rewriting-arguments-1.3\"><span class=\"toc-item-num\">1.3&nbsp;&nbsp;</span>Feature: Rewriting arguments</a></span><ul class=\"toc-item\"><li><span><a href=\"#Slicing\" data-toc-modified-id=\"Slicing-1.3.1\"><span class=\"toc-item-num\">1.3.1&nbsp;&nbsp;</span>Slicing</a></span></li><li><span><a href=\"#Reductions\" data-toc-modified-id=\"Reductions-1.3.2\"><span class=\"toc-item-num\">1.3.2&nbsp;&nbsp;</span>Reductions</a></span></li><li><span><a href=\"#Plotting\" data-toc-modified-id=\"Plotting-1.3.3\"><span class=\"toc-item-num\">1.3.3&nbsp;&nbsp;</span>Plotting</a></span></li><li><span><a href=\"#Resample-&amp;-groupby\" data-toc-modified-id=\"Resample-&amp;-groupby-1.3.4\"><span class=\"toc-item-num\">1.3.4&nbsp;&nbsp;</span>Resample &amp; groupby</a></span></li><li><span><a href=\"#Rolling-&amp;-coarsen\" data-toc-modified-id=\"Rolling-&amp;-coarsen-1.3.5\"><span class=\"toc-item-num\">1.3.5&nbsp;&nbsp;</span>Rolling &amp; coarsen</a></span><ul class=\"toc-item\"><li><span><a href=\"#miscellaneous-features\" data-toc-modified-id=\"miscellaneous-features-1.3.5.1\"><span class=\"toc-item-num\">1.3.5.1&nbsp;&nbsp;</span>miscellaneous features</a></span></li></ul></li></ul></li><li><span><a href=\"#Feature:-Weight-by-Cell-Measures\" data-toc-modified-id=\"Feature:-Weight-by-Cell-Measures-1.4\"><span class=\"toc-item-num\">1.4&nbsp;&nbsp;</span>Feature: Weight by Cell Measures</a></span></li></ul></li></ul></div>"
   ]
  },
  {
   "cell_type": "markdown",
   "metadata": {},
   "source": [
    "# Introduction to `cf_xarray`\n",
    "\n",
    "This notebook is a brief introduction to `cf_xarray`'s current capabilities."
   ]
  },
  {
   "cell_type": "code",
   "execution_count": null,
   "metadata": {
    "ExecuteTime": {
     "end_time": "2020-06-19T16:44:52.277430Z",
     "start_time": "2020-06-19T16:44:51.354881Z"
    }
   },
   "outputs": [],
   "source": [
    "import cf_xarray\n",
    "import numpy as np\n",
    "import xarray as xr"
   ]
  },
  {
   "cell_type": "markdown",
   "metadata": {},
   "source": [
    "Lets read two datasets."
   ]
  },
  {
   "cell_type": "code",
   "execution_count": null,
   "metadata": {
    "ExecuteTime": {
     "end_time": "2020-06-19T16:44:52.331138Z",
     "start_time": "2020-06-19T16:44:52.279190Z"
    }
   },
   "outputs": [],
   "source": [
    "ds = xr.tutorial.load_dataset(\"air_temperature\")\n",
    "ds"
   ]
  },
  {
   "cell_type": "markdown",
   "metadata": {},
   "source": [
    "This one is inspired by POP model output and illustrates how the coordinates attribute is interpreted"
   ]
  },
  {
   "cell_type": "code",
   "execution_count": null,
   "metadata": {
    "ExecuteTime": {
     "end_time": "2020-06-19T16:44:52.399087Z",
     "start_time": "2020-06-19T16:44:52.333063Z"
    }
   },
   "outputs": [],
   "source": [
    "pop = xr.Dataset()\n",
    "pop.coords[\"TLONG\"] = ((\"nlat\", \"nlon\"), np.ones((20, 30)), {\"units\": \"degrees_east\"})\n",
    "pop.coords[\"TLAT\"] = ((\"nlat\", \"nlon\"), 2 * np.ones((20, 30)), {\"units\": \"degrees_north\"})\n",
    "pop.coords[\"ULONG\"] = ((\"nlat\", \"nlon\"), 0.5 * np.ones((20, 30)), {\"units\": \"degrees_east\"})\n",
    "pop.coords[\"ULAT\"] = ((\"nlat\", \"nlon\"), 2.5 * np.ones((20, 30)), {\"units\": \"degrees_north\"})\n",
    "\n",
    "pop[\"UVEL\"] = (\n",
    "    (\"nlat\", \"nlon\"),\n",
    "    np.ones((20, 30)) * 15,\n",
    "    {\"coordinates\": \"ULONG ULAT\"},\n",
    ")\n",
    "pop[\"TEMP\"] = (\n",
    "    (\"nlat\", \"nlon\"),\n",
    "    np.ones((20, 30)) * 15,\n",
    "    {\"coordinates\": \"TLONG TLAT\"},\n",
    ")\n",
    "pop"
   ]
  },
  {
   "cell_type": "markdown",
   "metadata": {},
   "source": [
    "This synthetic dataset has multiple `X` and `Y` coords. An example would be model output on a staggered grid."
   ]
  },
  {
   "cell_type": "code",
   "execution_count": null,
   "metadata": {
    "ExecuteTime": {
     "end_time": "2020-06-19T16:44:52.449912Z",
     "start_time": "2020-06-19T16:44:52.400460Z"
    }
   },
   "outputs": [],
   "source": [
    "multiple = xr.Dataset()\n",
    "multiple.coords[\"x1\"] = (\"x1\", range(30), {\"axis\": \"X\"})\n",
    "multiple.coords[\"y1\"] = (\"y1\", range(20), {\"axis\": \"Y\"})\n",
    "multiple.coords[\"x2\"] = (\"x2\", range(10), {\"axis\": \"X\"})\n",
    "multiple.coords[\"y2\"] = (\"y2\", range(5), {\"axis\": \"Y\"})\n",
    "\n",
    "multiple[\"v1\"] = ((\"x1\", \"y1\"), np.ones((30, 20)) * 15)\n",
    "multiple[\"v2\"] = ((\"x2\", \"y2\"), np.ones((10, 5)) * 15)\n",
    "multiple"
   ]
  },
  {
   "cell_type": "markdown",
   "metadata": {},
   "source": [
    "## What attributes have been discovered?"
   ]
  },
  {
   "cell_type": "code",
   "execution_count": null,
   "metadata": {
    "ExecuteTime": {
     "end_time": "2020-06-19T16:44:52.480112Z",
     "start_time": "2020-06-19T16:44:52.451337Z"
    }
   },
   "outputs": [],
   "source": [
    "ds.lon"
   ]
  },
  {
   "cell_type": "markdown",
   "metadata": {},
   "source": [
    "`ds.lon` has attributes `axis: X`. This means that `cf_xarray` can identify the `'X'` axis as being represented by the `lon` variable.\n",
    "\n",
    "It can also use the `standard_name` and `units` attributes to infer that `lon` is \"Longitude\". To see variable names that `cf_xarray` can infer, use `.cf.describe()`"
   ]
  },
  {
   "cell_type": "code",
   "execution_count": null,
   "metadata": {
    "ExecuteTime": {
     "end_time": "2020-06-19T16:44:52.498434Z",
     "start_time": "2020-06-19T16:44:52.481531Z"
    }
   },
   "outputs": [],
   "source": [
    "ds.cf.describe()"
   ]
  },
  {
   "cell_type": "markdown",
   "metadata": {},
   "source": [
    "For `pop`, only `latitude` and `longitude` are detected, not `X` or `Y`. Please comment here: https://github.com/xarray-contrib/cf-xarray/issues/23 if you have opinions about this behaviour."
   ]
  },
  {
   "cell_type": "code",
   "execution_count": null,
   "metadata": {
    "ExecuteTime": {
     "end_time": "2020-06-19T16:44:52.522360Z",
     "start_time": "2020-06-19T16:44:52.500354Z"
    }
   },
   "outputs": [],
   "source": [
    "pop.cf.describe()"
   ]
  },
  {
   "cell_type": "markdown",
   "metadata": {},
   "source": [
    "For `multiple`, multiple `X` and `Y` coordinates are detected"
   ]
  },
  {
   "cell_type": "code",
   "execution_count": null,
   "metadata": {
    "ExecuteTime": {
     "end_time": "2020-06-19T16:44:52.553921Z",
     "start_time": "2020-06-19T16:44:52.526299Z"
    }
   },
   "outputs": [],
   "source": [
    "multiple.cf.describe()"
   ]
  },
  {
   "cell_type": "markdown",
   "metadata": {},
   "source": [
    "## Feature: Accessing coordinate variables\n",
    "\n",
    "`.cf` implements `__getitem__` to allow easy access to coordinate and axis variables."
   ]
  },
  {
   "cell_type": "code",
   "execution_count": null,
   "metadata": {
    "ExecuteTime": {
     "end_time": "2020-06-19T16:44:52.575193Z",
     "start_time": "2020-06-19T16:44:52.555069Z"
    }
   },
   "outputs": [],
   "source": [
    "ds.cf[\"X\"]"
   ]
  },
  {
   "cell_type": "markdown",
   "metadata": {},
   "source": [
    "`Dataset.cf[...]` returns a `Dataset`, possibly with multiple variables"
   ]
  },
  {
   "cell_type": "code",
   "execution_count": null,
   "metadata": {
    "ExecuteTime": {
     "end_time": "2020-06-19T16:44:52.608225Z",
     "start_time": "2020-06-19T16:44:52.576642Z"
    }
   },
   "outputs": [],
   "source": [
    "pop.cf[\"longitude\"]"
   ]
  },
  {
   "cell_type": "markdown",
   "metadata": {},
   "source": [
    "`DataArray.cf[...]` returns a single `DataArray`, parsing the `coordinates` attribute if present, so we correctly get the `TLONG` variable and not the `ULONG` variable"
   ]
  },
  {
   "cell_type": "code",
   "execution_count": null,
   "metadata": {
    "ExecuteTime": {
     "end_time": "2020-06-19T16:44:52.640868Z",
     "start_time": "2020-06-19T16:44:52.609404Z"
    }
   },
   "outputs": [],
   "source": [
    "pop.TEMP.cf[\"longitude\"]"
   ]
  },
  {
   "cell_type": "markdown",
   "metadata": {},
   "source": [
    "## Feature: Rewriting arguments\n",
    "\n",
    "`cf_xarray` can rewrite arguments for a large number of xarray functions. By this I mean that instead of specifing say `dim=\"lon\"`, you can pass `dim=\"X\"` or `dim=\"longitude\"` and `cf_xarray` will rewrite that to `dim=\"lon\"` based on the attributes present in the dataset. \n",
    "\n",
    "Here are a few examples"
   ]
  },
  {
   "cell_type": "markdown",
   "metadata": {},
   "source": [
    "### Slicing"
   ]
  },
  {
   "cell_type": "code",
   "execution_count": null,
   "metadata": {
    "ExecuteTime": {
     "end_time": "2020-06-19T16:44:52.677400Z",
     "start_time": "2020-06-19T16:44:52.641979Z"
    }
   },
   "outputs": [],
   "source": [
    "ds.air.cf.isel(T=1)"
   ]
  },
  {
   "cell_type": "markdown",
   "metadata": {},
   "source": [
    "Slicing works will expand a single key like `X` to multiple dimensions if those dimensions are tagged with `axis: X`"
   ]
  },
  {
   "cell_type": "code",
   "execution_count": null,
   "metadata": {
    "ExecuteTime": {
     "end_time": "2020-06-19T16:44:52.700101Z",
     "start_time": "2020-06-19T16:44:52.679004Z"
    }
   },
   "outputs": [],
   "source": [
    "multiple.cf.isel(X=1, Y=1)"
   ]
  },
  {
   "cell_type": "markdown",
   "metadata": {},
   "source": [
    "### Reductions"
   ]
  },
  {
   "cell_type": "code",
   "execution_count": null,
   "metadata": {
    "ExecuteTime": {
     "end_time": "2020-06-19T16:44:52.749269Z",
     "start_time": "2020-06-19T16:44:52.701198Z"
    }
   },
   "outputs": [],
   "source": [
    "ds.air.cf.mean(\"X\")"
   ]
  },
  {
   "cell_type": "markdown",
   "metadata": {},
   "source": [
    "Expanding to multiple dimensions is also supported"
   ]
  },
  {
   "cell_type": "code",
   "execution_count": null,
   "metadata": {
    "ExecuteTime": {
     "end_time": "2020-06-19T16:44:52.777454Z",
     "start_time": "2020-06-19T16:44:52.750613Z"
    }
   },
   "outputs": [],
   "source": [
    "# takes the mean along [\"x1\", \"x2\"]\n",
    "multiple.cf.mean(\"X\")"
   ]
  },
  {
   "cell_type": "markdown",
   "metadata": {},
   "source": [
    "### Plotting"
   ]
  },
  {
   "cell_type": "code",
   "execution_count": null,
   "metadata": {
    "ExecuteTime": {
     "end_time": "2020-06-19T16:44:53.214185Z",
     "start_time": "2020-06-19T16:44:52.779161Z"
    }
   },
   "outputs": [],
   "source": [
    "ds.air.cf.isel(time=1).cf.plot(x=\"X\", y=\"Y\")"
   ]
  },
  {
   "cell_type": "code",
   "execution_count": null,
   "metadata": {
    "ExecuteTime": {
     "end_time": "2020-06-19T16:44:53.396332Z",
     "start_time": "2020-06-19T16:44:53.216108Z"
    }
   },
   "outputs": [],
   "source": [
    "ds.air.cf.isel(T=1, Y=[0, 1, 2]).cf.plot(x=\"longitude\", hue=\"latitude\")"
   ]
  },
  {
   "cell_type": "markdown",
   "metadata": {},
   "source": [
    "`cf_xarray` can facet"
   ]
  },
  {
   "cell_type": "code",
   "execution_count": null,
   "metadata": {
    "ExecuteTime": {
     "end_time": "2020-06-19T16:44:53.937352Z",
     "start_time": "2020-06-19T16:44:53.397781Z"
    }
   },
   "outputs": [],
   "source": [
    "ds.air.isel(time=slice(4)).cf.plot(x=\"longitude\", y=\"latitude\", col=\"time\")"
   ]
  },
  {
   "cell_type": "markdown",
   "metadata": {},
   "source": [
    "### Resample & groupby"
   ]
  },
  {
   "cell_type": "code",
   "execution_count": null,
   "metadata": {
    "ExecuteTime": {
     "end_time": "2020-06-19T16:44:54.577478Z",
     "start_time": "2020-06-19T16:44:53.938825Z"
    }
   },
   "outputs": [],
   "source": [
    "ds.cf.resample(T=\"D\").mean()"
   ]
  },
  {
   "cell_type": "code",
   "execution_count": null,
   "metadata": {
    "ExecuteTime": {
     "end_time": "2020-06-19T16:44:54.644922Z",
     "start_time": "2020-06-19T16:44:54.578741Z"
    }
   },
   "outputs": [],
   "source": [
    "ds.cf.groupby(\"time.month\").mean(\"longitude\")"
   ]
  },
  {
   "cell_type": "markdown",
   "metadata": {},
   "source": [
    "### Rolling & coarsen "
   ]
  },
  {
   "cell_type": "code",
   "execution_count": null,
   "metadata": {
    "ExecuteTime": {
     "end_time": "2020-06-19T16:44:54.690873Z",
     "start_time": "2020-06-19T16:44:54.646190Z"
    }
   },
   "outputs": [],
   "source": [
    "ds.cf.rolling(X=5).mean()"
   ]
  },
  {
   "cell_type": "markdown",
   "metadata": {
    "ExecuteTime": {
     "end_time": "2020-06-12T20:31:46.708776Z",
     "start_time": "2020-06-12T20:31:46.525974Z"
    }
   },
   "source": [
    "``coarsen`` works but everything later will break because of xarray bug https://github.com/pydata/xarray/issues/4120\n",
    "\n",
    "``ds.isel(lon=slice(50)).cf.coarsen(Y=5, X=10).mean()``"
   ]
  },
  {
   "cell_type": "markdown",
   "metadata": {},
   "source": [
    "#### miscellaneous features\n",
    "\n",
    "You can mix \"special names\" and variable names"
   ]
  },
  {
   "cell_type": "code",
   "execution_count": null,
   "metadata": {
    "ExecuteTime": {
     "end_time": "2020-06-19T16:44:54.750667Z",
     "start_time": "2020-06-19T16:44:54.693023Z"
    }
   },
   "outputs": [],
   "source": [
    "ds.cf.groupby(\"time.month\").mean([\"lat\", \"X\"])"
   ]
  },
  {
   "cell_type": "markdown",
   "metadata": {},
   "source": [
    "## Feature: Weight by Cell Measures\n",
    "\n",
    "`cf_xarray` can weight by cell measure variables `\"area\"` and `\"volume\"` if the appropriate attribute is set"
   ]
  },
  {
   "cell_type": "code",
   "execution_count": null,
   "metadata": {
    "ExecuteTime": {
     "end_time": "2020-06-19T16:44:54.771517Z",
     "start_time": "2020-06-19T16:44:54.752078Z"
    }
   },
   "outputs": [],
   "source": [
    "# Lets make some weights (not sure if this is right)\n",
    "ds.coords[\"cell_area\"] = (\n",
    "    np.cos(ds.air.cf[\"latitude\"] * np.pi / 180)\n",
    "    * xr.ones_like(ds.air.cf[\"longitude\"])\n",
    "    * 105e3\n",
    "    * 110e3\n",
    ")\n",
    "# and set proper attributes\n",
    "ds.air.attrs[\"cell_measures\"] = \"area: cell_area\""
   ]
  },
  {
   "cell_type": "code",
   "execution_count": null,
   "metadata": {
    "ExecuteTime": {
     "end_time": "2020-06-19T16:44:54.961814Z",
     "start_time": "2020-06-19T16:44:54.772773Z"
    }
   },
   "outputs": [],
   "source": [
    "ds.air.cf.weighted(\"area\").mean([\"latitude\", \"time\"]).cf.plot(x=\"longitude\")\n",
    "ds.air.mean([\"lat\", \"time\"]).cf.plot(x=\"longitude\")"
   ]
  }
 ],
 "metadata": {
  "kernelspec": {
   "display_name": "Python 3",
   "language": "python",
   "name": "python3"
  },
  "language_info": {
   "codemirror_mode": {
    "name": "ipython",
    "version": 3
   },
   "file_extension": ".py",
   "mimetype": "text/x-python",
   "name": "python",
   "nbconvert_exporter": "python",
   "pygments_lexer": "ipython3",
   "version": "3.7.6"
  },
  "toc": {
   "base_numbering": 1,
   "nav_menu": {},
   "number_sections": true,
   "sideBar": true,
   "skip_h1_title": false,
   "title_cell": "Table of Contents",
   "title_sidebar": "Contents",
   "toc_cell": true,
   "toc_position": {},
   "toc_section_display": true,
   "toc_window_display": true
  }
 },
 "nbformat": 4,
 "nbformat_minor": 4
}
