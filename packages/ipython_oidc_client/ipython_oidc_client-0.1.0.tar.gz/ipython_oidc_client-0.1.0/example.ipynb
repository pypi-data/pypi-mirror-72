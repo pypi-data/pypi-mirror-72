{
 "cells": [
  {
   "cell_type": "code",
   "execution_count": 49,
   "metadata": {},
   "outputs": [],
   "source": [
    "from ipython_oidc_client import authenticate\n",
    "\n",
    "\n",
    "access_configuration = {\n",
    "    'authority': 'https://.../.well-known/openid-configuration',\n",
    "    'client_id': '...',\n",
    "    'response_type': 'token',\n",
    "    'scope': 'openid',\n",
    "}\n",
    "\n",
    "access_token = None\n",
    "authenticate(provider)"
   ]
  },
  {
   "cell_type": "code",
   "execution_count": null,
   "metadata": {},
   "outputs": [],
   "source": [
    "access_token"
   ]
  }
 ],
 "metadata": {
  "kernelspec": {
   "display_name": "Python 3",
   "language": "python",
   "name": "python3"
  },
  "language_info": {
   "codemirror_mode": {
    "name": "ipython",
    "version": 3
   },
   "file_extension": ".py",
   "mimetype": "text/x-python",
   "name": "python",
   "nbconvert_exporter": "python",
   "pygments_lexer": "ipython3",
   "version": "3.7.4"
  }
 },
 "nbformat": 4,
 "nbformat_minor": 4
}