{
 "cells": [
  {
   "cell_type": "markdown",
   "metadata": {},
   "source": [
    "# NWBWidgets Demos\n",
    "\n",
    "This notebook demonstrates now to run NWBWidgets on an NWB file. It is the same pattern for any NWB file. To run, download an example session from any of these datasets and adjust the paths to the local path on your computer."
   ]
  },
  {
   "cell_type": "code",
   "execution_count": 1,
   "metadata": {},
   "outputs": [],
   "source": [
    "from pynwb import NWBHDF5IO\n",
    "from nwbwidgets import nwb2widget"
   ]
  },
  {
   "cell_type": "markdown",
   "metadata": {},
   "source": [
    "### Calium imaging\n",
    "#### A Map of Anticipatory Activity in Mouse Motor Cortex, Chen, Svoboda Available on DANDI at [https://dandiarchive.org/dandiset/000015/draft](https://dandiarchive.org/dandiset/000015/draft)."
   ]
  },
  {
   "cell_type": "code",
   "execution_count": null,
   "metadata": {},
   "outputs": [],
   "source": [
    "fpath = '../ophys_example.nwb'\n",
    "nwb = NWBHDF5IO(fpath, 'r').read()\n",
    "nwb2widget(nwb)"
   ]
  },
  {
   "cell_type": "markdown",
   "metadata": {},
   "source": [
    "### Intracellular electrophysiology\n",
    "#### Demonstrated using data from the Blue Brain Project, BBP & LNMC, EPFL. Dataset available on DANDI at [https://dandiarchive.org/dandiset/000025/draft](https://dandiarchive.org/dandiset/000025/draft)."
   ]
  },
  {
   "cell_type": "code",
   "execution_count": null,
   "metadata": {},
   "outputs": [],
   "source": [
    "import ndx_icephys_meta\n",
    "fpath = '../icephys_example.nwb'\n",
    "nwb = NWBHDF5IO(fpath, 'r').read()\n",
    "nwb2widget(nwb)"
   ]
  },
  {
   "cell_type": "markdown",
   "metadata": {},
   "source": [
    "### Extracellular electrophysiology\n",
    "#### Allen Institute Neuropixel data releasea, available on DANDI at [https://dandiarchive.org/dandiset/000021/draft](https://dandiarchive.org/dandiset/000021/draft)."
   ]
  },
  {
   "cell_type": "code",
   "execution_count": 2,
   "metadata": {
    "scrolled": false
   },
   "outputs": [
    {
     "name": "stderr",
     "output_type": "stream",
     "text": [
      "/Users/bendichter/dev/hdmf/src/hdmf/spec/namespace.py:470: UserWarning:\n",
      "\n",
      "ignoring namespace 'hdmf-common' because it already exists\n",
      "\n",
      "/Users/bendichter/dev/hdmf/src/hdmf/spec/namespace.py:470: UserWarning:\n",
      "\n",
      "ignoring namespace 'core' because it already exists\n",
      "\n"
     ]
    },
    {
     "data": {
      "application/vnd.jupyter.widget-view+json": {
       "model_id": "f8cb9dafdc90490fa4cad965e05ca8fb",
       "version_major": 2,
       "version_minor": 0
      },
      "text/plain": [
       "VBox(children=(HBox(children=(Label(value='session_description:', layout=Layout(max_height='40px', max_width='…"
      ]
     },
     "metadata": {},
     "output_type": "display_data"
    }
   ],
   "source": [
    "fpath = '/Volumes/easystore5T/data/Allen/neuropixel/dandi_release/sub-699733573_ses-715093703.nwb'\n",
    "from nwbwidgets.allen import load_allen_widgets\n",
    "load_allen_widgets()\n",
    "nwb = NWBHDF5IO(fpath, 'r', load_namespaces=True).read()\n",
    "nwb2widget(nwb)"
   ]
  },
  {
   "cell_type": "code",
   "execution_count": null,
   "metadata": {},
   "outputs": [],
   "source": []
  }
 ],
 "metadata": {
  "kernelspec": {
   "display_name": "Python 3",
   "language": "python",
   "name": "python3"
  },
  "language_info": {
   "codemirror_mode": {
    "name": "ipython",
    "version": 3
   },
   "file_extension": ".py",
   "mimetype": "text/x-python",
   "name": "python",
   "nbconvert_exporter": "python",
   "pygments_lexer": "ipython3",
   "version": "3.7.4"
  }
 },
 "nbformat": 4,
 "nbformat_minor": 2
}
