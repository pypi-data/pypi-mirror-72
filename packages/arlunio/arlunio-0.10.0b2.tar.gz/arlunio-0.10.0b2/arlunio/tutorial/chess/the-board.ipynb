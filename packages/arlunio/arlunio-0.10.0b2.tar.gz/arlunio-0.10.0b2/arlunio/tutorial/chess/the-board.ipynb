{
 "cells": [
  {
   "cell_type": "markdown",
   "metadata": {},
   "source": [
    "# The Chess Board\n"
   ]
  }
 ],
 "metadata": {},
 "nbformat": 4,
 "nbformat_minor": 4
}