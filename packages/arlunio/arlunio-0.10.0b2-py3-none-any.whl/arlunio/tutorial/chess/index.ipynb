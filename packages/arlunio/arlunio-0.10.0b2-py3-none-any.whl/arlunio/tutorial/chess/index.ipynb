{
 "cells": [
  {
   "cell_type": "markdown",
   "metadata": {},
   "source": [
    "# Chess\n",
    "- [The Chess Board](the-board.ipynb)"
   ]
  }
 ],
 "metadata": {},
 "nbformat": 4,
 "nbformat_minor": 4
}