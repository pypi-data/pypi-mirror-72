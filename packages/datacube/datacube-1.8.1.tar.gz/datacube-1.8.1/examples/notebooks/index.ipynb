{
 "cells": [
  {
   "cell_type": "markdown",
   "metadata": {},
   "source": [
    "# Datacube Notebooks\n",
    "This is an index of the AGDC Jupyter Notebooks.\n",
    "For detailed information on using the "
   ]
  },
  {
   "cell_type": "markdown",
   "metadata": {
    "ExecuteTime": {
     "end_time": "2016-06-24T11:45:07.919000",
     "start_time": "2016-06-24T11:45:07.900000"
    }
   },
   "source": [
    "[Datacube Summary](Datacube_Summary.ipynb) has examples of various features of using the Datacube."
   ]
  },
  {
   "cell_type": "markdown",
   "metadata": {},
   "source": [
    "[WOfS Sample](wofs_sample.ipynb) demonstarates the basics of the masking steps used in the Water Obersrvations from Space application."
   ]
  }
 ],
 "metadata": {
  "kernelspec": {
   "display_name": "Python 2",
   "language": "python",
   "name": "python2"
  },
  "language_info": {
   "codemirror_mode": {
    "name": "ipython",
    "version": 2.0
   },
   "file_extension": ".py",
   "mimetype": "text/x-python",
   "name": "python",
   "nbconvert_exporter": "python",
   "pygments_lexer": "ipython2",
   "version": "2.7.11"
  },
  "toc": {
   "toc_cell": false,
   "toc_number_sections": true,
   "toc_threshold": 6.0,
   "toc_window_display": false
  }
 },
 "nbformat": 4,
 "nbformat_minor": 0
}