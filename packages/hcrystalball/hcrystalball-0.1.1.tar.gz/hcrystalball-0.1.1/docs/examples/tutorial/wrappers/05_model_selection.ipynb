{
 "cells": [
  {
   "cell_type": "markdown",
   "metadata": {},
   "source": [
    "# Cross Validation\n",
    "As time-series have the inherent structure we could run into problems with traditional shuffled Kfolds cross-validation. hcrystalball implements forward rolling cross-validation making training set consist only of observations that occurred prior to the observations that form the test set.\n",
    "\n",
    "<center><img src=\"../../../_static/FinerTimeSplit.svg\"></center>"
   ]
  },
  {
   "cell_type": "code",
   "execution_count": 1,
   "metadata": {},
   "outputs": [],
   "source": [
    "from hcrystalball.model_selection import FinerTimeSplit\n",
    "from sklearn.model_selection import cross_validate\n",
    "from hcrystalball.wrappers import ExponentialSmoothingWrapper"
   ]
  },
  {
   "cell_type": "code",
   "execution_count": 2,
   "metadata": {},
   "outputs": [],
   "source": [
    "import pandas as pd\n",
    "import matplotlib.pyplot as plt\n",
    "# plt.style.use('fivethirtyeight')\n",
    "plt.rcParams['figure.figsize'] = [12, 6]"
   ]
  },
  {
   "cell_type": "code",
   "execution_count": 3,
   "metadata": {},
   "outputs": [],
   "source": [
    "from hcrystalball.utils import get_sales_data\n",
    "\n",
    "df = get_sales_data(n_dates=100, \n",
    "                    n_assortments=1,\n",
    "                    n_states=1, \n",
    "                    n_stores=1)\n",
    "X, y = pd.DataFrame(index=df.index), df['Sales']"
   ]
  },
  {
   "cell_type": "markdown",
   "metadata": {},
   "source": [
    "## Native Cross Validation"
   ]
  },
  {
   "cell_type": "code",
   "execution_count": 4,
   "metadata": {},
   "outputs": [
    {
     "data": {
      "text/plain": [
       "{'fit_time': array([0.01100016, 0.00534296]),\n",
       " 'score_time': array([0.00643301, 0.00403714]),\n",
       " 'test_score': array([-4822.46061508, -5489.06393347])}"
      ]
     },
     "execution_count": 4,
     "metadata": {},
     "output_type": "execute_result"
    }
   ],
   "source": [
    "cross_validate(ExponentialSmoothingWrapper(), \n",
    "               X, \n",
    "               y, \n",
    "               cv=FinerTimeSplit(horizon=5, n_splits=2), \n",
    "               scoring='neg_mean_absolute_error')"
   ]
  },
  {
   "cell_type": "markdown",
   "metadata": {},
   "source": [
    "## Grid search and model selection"
   ]
  },
  {
   "cell_type": "markdown",
   "metadata": {},
   "source": [
    "Model selection and parameter tuning is the area where hcrystalball really shines. There is ongoing and probably a never-ending discussion about superiority or inferiority of ML techniques over common statistical/econometrical ones. Why not try both? The problem of a simple comparison between the performance of different kind of algorithms such as SARIMAX, Prophet, regularized linear models, and XGBoost lead to hcrystalball. Let's see how to do it!"
   ]
  },
  {
   "cell_type": "code",
   "execution_count": 5,
   "metadata": {},
   "outputs": [],
   "source": [
    "from hcrystalball.compose import TSColumnTransformer\n",
    "from hcrystalball.feature_extraction import SeasonalityTransformer\n",
    "from hcrystalball.wrappers import ProphetWrapper\n",
    "from hcrystalball.wrappers import get_sklearn_wrapper\n",
    "from sklearn.ensemble import RandomForestRegressor\n",
    "from sklearn.linear_model import LinearRegression\n",
    "from sklearn.pipeline import Pipeline\n",
    "\n",
    "from hcrystalball.wrappers import SarimaxWrapper\n",
    "from sklearn.model_selection import GridSearchCV\n",
    "\n",
    "import numpy as np\n",
    "import pandas as pd"
   ]
  },
  {
   "cell_type": "markdown",
   "metadata": {},
   "source": [
    "### Define our pipeline"
   ]
  },
  {
   "cell_type": "code",
   "execution_count": 6,
   "metadata": {},
   "outputs": [],
   "source": [
    "sklearn_model_pipeline = Pipeline([\n",
    "    ('seasonality', SeasonalityTransformer(freq='D')),\n",
    "    ('model', 'passthrough') # this will be overwritten by param grid\n",
    "]) "
   ]
  },
  {
   "cell_type": "markdown",
   "metadata": {},
   "source": [
    "### Define pipeline parameters including different models"
   ]
  },
  {
   "cell_type": "code",
   "execution_count": 7,
   "metadata": {},
   "outputs": [],
   "source": [
    "param_grid = [{'model': [sklearn_model_pipeline],\n",
    "               'model__model':[get_sklearn_wrapper(RandomForestRegressor), \n",
    "                               get_sklearn_wrapper(LinearRegression)]},\n",
    "              {'model': [ProphetWrapper()],\n",
    "               'model__seasonality_mode':['multiplicative', 'additive']},\n",
    "              {'model': [SarimaxWrapper(order=(2,1,1), suppress_warnings=True)]}\n",
    "             ]"
   ]
  },
  {
   "cell_type": "markdown",
   "metadata": {},
   "source": [
    "### Run native grid search"
   ]
  },
  {
   "cell_type": "code",
   "execution_count": 8,
   "metadata": {},
   "outputs": [],
   "source": [
    "grid_search = GridSearchCV(estimator=sklearn_model_pipeline, \n",
    "                           param_grid=param_grid, \n",
    "                           scoring='neg_mean_absolute_error', \n",
    "                           cv=FinerTimeSplit(horizon=5, n_splits=2),\n",
    "                           refit=False, \n",
    "                           error_score=np.nan) "
   ]
  },
  {
   "cell_type": "code",
   "execution_count": 9,
   "metadata": {},
   "outputs": [],
   "source": [
    "results = grid_search.fit(X, y)"
   ]
  },
  {
   "cell_type": "code",
   "execution_count": 10,
   "metadata": {},
   "outputs": [
    {
     "data": {
      "text/html": [
       "<div>\n",
       "<style scoped>\n",
       "    .dataframe tbody tr th:only-of-type {\n",
       "        vertical-align: middle;\n",
       "    }\n",
       "\n",
       "    .dataframe tbody tr th {\n",
       "        vertical-align: top;\n",
       "    }\n",
       "\n",
       "    .dataframe thead th {\n",
       "        text-align: right;\n",
       "    }\n",
       "</style>\n",
       "<table border=\"1\" class=\"dataframe\">\n",
       "  <thead>\n",
       "    <tr style=\"text-align: right;\">\n",
       "      <th></th>\n",
       "      <th>mean_fit_time</th>\n",
       "      <th>std_fit_time</th>\n",
       "      <th>mean_score_time</th>\n",
       "      <th>std_score_time</th>\n",
       "      <th>param_model</th>\n",
       "      <th>param_model__model</th>\n",
       "      <th>param_model__seasonality_mode</th>\n",
       "      <th>params</th>\n",
       "      <th>split0_test_score</th>\n",
       "      <th>split1_test_score</th>\n",
       "      <th>mean_test_score</th>\n",
       "      <th>std_test_score</th>\n",
       "      <th>rank_test_score</th>\n",
       "    </tr>\n",
       "  </thead>\n",
       "  <tbody>\n",
       "    <tr>\n",
       "      <th>1</th>\n",
       "      <td>0.019943</td>\n",
       "      <td>0.002446</td>\n",
       "      <td>0.050979</td>\n",
       "      <td>0.000094</td>\n",
       "      <td>(SeasonalityTransformer(auto=True, freq='D', m...</td>\n",
       "      <td>SklearnWrapper(clip_predictions_lower=None, cl...</td>\n",
       "      <td>NaN</td>\n",
       "      <td>{'model': (SeasonalityTransformer(auto=True, f...</td>\n",
       "      <td>-1263.234636</td>\n",
       "      <td>-1466.042533</td>\n",
       "      <td>-1364.638585</td>\n",
       "      <td>101.403949</td>\n",
       "      <td>1</td>\n",
       "    </tr>\n",
       "    <tr>\n",
       "      <th>0</th>\n",
       "      <td>0.022864</td>\n",
       "      <td>0.002706</td>\n",
       "      <td>0.190258</td>\n",
       "      <td>0.011604</td>\n",
       "      <td>(SeasonalityTransformer(auto=True, freq='D', m...</td>\n",
       "      <td>SklearnWrapper(bootstrap=True, ccp_alpha=0.0, ...</td>\n",
       "      <td>NaN</td>\n",
       "      <td>{'model': (SeasonalityTransformer(auto=True, f...</td>\n",
       "      <td>-1985.424000</td>\n",
       "      <td>-1729.036000</td>\n",
       "      <td>-1857.230000</td>\n",
       "      <td>128.194000</td>\n",
       "      <td>2</td>\n",
       "    </tr>\n",
       "    <tr>\n",
       "      <th>2</th>\n",
       "      <td>1.012166</td>\n",
       "      <td>0.622536</td>\n",
       "      <td>1.637623</td>\n",
       "      <td>0.076543</td>\n",
       "      <td>ProphetWrapper(changepoint_prior_scale=0.05, c...</td>\n",
       "      <td>NaN</td>\n",
       "      <td>multiplicative</td>\n",
       "      <td>{'model': ProphetWrapper(changepoint_prior_sca...</td>\n",
       "      <td>-2601.205624</td>\n",
       "      <td>-1407.257183</td>\n",
       "      <td>-2004.231403</td>\n",
       "      <td>596.974220</td>\n",
       "      <td>3</td>\n",
       "    </tr>\n",
       "    <tr>\n",
       "      <th>3</th>\n",
       "      <td>0.497856</td>\n",
       "      <td>0.167629</td>\n",
       "      <td>2.964522</td>\n",
       "      <td>0.931830</td>\n",
       "      <td>ProphetWrapper(changepoint_prior_scale=0.05, c...</td>\n",
       "      <td>NaN</td>\n",
       "      <td>additive</td>\n",
       "      <td>{'model': ProphetWrapper(changepoint_prior_sca...</td>\n",
       "      <td>-2687.583938</td>\n",
       "      <td>-1330.634452</td>\n",
       "      <td>-2009.109195</td>\n",
       "      <td>678.474743</td>\n",
       "      <td>4</td>\n",
       "    </tr>\n",
       "    <tr>\n",
       "      <th>4</th>\n",
       "      <td>1.286065</td>\n",
       "      <td>0.192093</td>\n",
       "      <td>0.025675</td>\n",
       "      <td>0.001419</td>\n",
       "      <td>SarimaxWrapper(always_search_model=False, auto...</td>\n",
       "      <td>NaN</td>\n",
       "      <td>NaN</td>\n",
       "      <td>{'model': SarimaxWrapper(always_search_model=F...</td>\n",
       "      <td>-1121.756502</td>\n",
       "      <td>-14636.329690</td>\n",
       "      <td>-7879.043096</td>\n",
       "      <td>6757.286594</td>\n",
       "      <td>5</td>\n",
       "    </tr>\n",
       "  </tbody>\n",
       "</table>\n",
       "</div>"
      ],
      "text/plain": [
       "   mean_fit_time  std_fit_time  mean_score_time  std_score_time  \\\n",
       "1       0.019943      0.002446         0.050979        0.000094   \n",
       "0       0.022864      0.002706         0.190258        0.011604   \n",
       "2       1.012166      0.622536         1.637623        0.076543   \n",
       "3       0.497856      0.167629         2.964522        0.931830   \n",
       "4       1.286065      0.192093         0.025675        0.001419   \n",
       "\n",
       "                                         param_model  \\\n",
       "1  (SeasonalityTransformer(auto=True, freq='D', m...   \n",
       "0  (SeasonalityTransformer(auto=True, freq='D', m...   \n",
       "2  ProphetWrapper(changepoint_prior_scale=0.05, c...   \n",
       "3  ProphetWrapper(changepoint_prior_scale=0.05, c...   \n",
       "4  SarimaxWrapper(always_search_model=False, auto...   \n",
       "\n",
       "                                  param_model__model  \\\n",
       "1  SklearnWrapper(clip_predictions_lower=None, cl...   \n",
       "0  SklearnWrapper(bootstrap=True, ccp_alpha=0.0, ...   \n",
       "2                                                NaN   \n",
       "3                                                NaN   \n",
       "4                                                NaN   \n",
       "\n",
       "  param_model__seasonality_mode  \\\n",
       "1                           NaN   \n",
       "0                           NaN   \n",
       "2                multiplicative   \n",
       "3                      additive   \n",
       "4                           NaN   \n",
       "\n",
       "                                              params  split0_test_score  \\\n",
       "1  {'model': (SeasonalityTransformer(auto=True, f...       -1263.234636   \n",
       "0  {'model': (SeasonalityTransformer(auto=True, f...       -1985.424000   \n",
       "2  {'model': ProphetWrapper(changepoint_prior_sca...       -2601.205624   \n",
       "3  {'model': ProphetWrapper(changepoint_prior_sca...       -2687.583938   \n",
       "4  {'model': SarimaxWrapper(always_search_model=F...       -1121.756502   \n",
       "\n",
       "   split1_test_score  mean_test_score  std_test_score  rank_test_score  \n",
       "1       -1466.042533     -1364.638585      101.403949                1  \n",
       "0       -1729.036000     -1857.230000      128.194000                2  \n",
       "2       -1407.257183     -2004.231403      596.974220                3  \n",
       "3       -1330.634452     -2009.109195      678.474743                4  \n",
       "4      -14636.329690     -7879.043096     6757.286594                5  "
      ]
     },
     "execution_count": 10,
     "metadata": {},
     "output_type": "execute_result"
    }
   ],
   "source": [
    "pd.DataFrame(results.cv_results_).sort_values('rank_test_score').head()"
   ]
  },
  {
   "cell_type": "markdown",
   "metadata": {},
   "source": [
    "It seems that the best model is sklearn with RandomForestRegressor, but in time-series, it is often also a good idea to check how the forecasts look like. Unfortunately, this is not possible with sklearn. grid_search is returning just the results, not the predictions of individual models for different splits. hcrystalball thus implements special scoring functions that track all data from the grid_search."
   ]
  },
  {
   "cell_type": "markdown",
   "metadata": {},
   "source": [
    "## Custom scorer"
   ]
  },
  {
   "cell_type": "code",
   "execution_count": 11,
   "metadata": {},
   "outputs": [],
   "source": [
    "from hcrystalball.metrics import make_ts_scorer\n",
    "from sklearn.metrics import mean_absolute_error"
   ]
  },
  {
   "cell_type": "code",
   "execution_count": 12,
   "metadata": {},
   "outputs": [],
   "source": [
    "scoring = make_ts_scorer(mean_absolute_error, \n",
    "                         greater_is_better=False)"
   ]
  },
  {
   "cell_type": "code",
   "execution_count": 13,
   "metadata": {},
   "outputs": [],
   "source": [
    "grid_search = GridSearchCV(estimator=sklearn_model_pipeline, \n",
    "                           param_grid=param_grid, \n",
    "                           scoring=scoring, \n",
    "                           cv=FinerTimeSplit(horizon=5, n_splits=2),\n",
    "                           refit=False, \n",
    "                           error_score=np.nan) \n",
    "results = grid_search.fit(X, y)"
   ]
  },
  {
   "cell_type": "code",
   "execution_count": 14,
   "metadata": {},
   "outputs": [
    {
     "data": {
      "image/png": "[encoded data removed]",
      "text/plain": [
       "<Figure size 864x432 with 1 Axes>"
      ]
     },
     "metadata": {
      "needs_background": "light"
     },
     "output_type": "display_data"
    }
   ],
   "source": [
    "results.scorer_.cv_data.loc[:,lambda x: x.columns != 'split'].plot();"
   ]
  },
  {
   "cell_type": "markdown",
   "metadata": {},
   "source": [
    "hcrystalball internally tracks data based on unique model hashes since model string represantations (reprs) are very long for usable columns names in dataframe, but if you are curious i.e. what was the worse model not to use it for further experiment, you can do it with scorers `estimator_ids` attribute"
   ]
  },
  {
   "cell_type": "code",
   "execution_count": 15,
   "metadata": {},
   "outputs": [
    {
     "data": {
      "text/html": [
       "<div>\n",
       "<style scoped>\n",
       "    .dataframe tbody tr th:only-of-type {\n",
       "        vertical-align: middle;\n",
       "    }\n",
       "\n",
       "    .dataframe tbody tr th {\n",
       "        vertical-align: top;\n",
       "    }\n",
       "\n",
       "    .dataframe thead th {\n",
       "        text-align: right;\n",
       "    }\n",
       "</style>\n",
       "<table border=\"1\" class=\"dataframe\">\n",
       "  <thead>\n",
       "    <tr style=\"text-align: right;\">\n",
       "      <th></th>\n",
       "      <th>split</th>\n",
       "      <th>y_true</th>\n",
       "      <th>feef8e885b65983a6b2a2afa81790f63</th>\n",
       "      <th>f15ffb80abe21be5aa49ca2f4bef1428</th>\n",
       "      <th>443c753f6a53b3387028bafe49a286eb</th>\n",
       "      <th>6f632e060699dce1d328412e4b83c850</th>\n",
       "      <th>12436b23a2222e4b1df46a139cef649f</th>\n",
       "    </tr>\n",
       "  </thead>\n",
       "  <tbody>\n",
       "    <tr>\n",
       "      <th>2015-07-22</th>\n",
       "      <td>0</td>\n",
       "      <td>18046.0</td>\n",
       "      <td>21096.67</td>\n",
       "      <td>20676.741135</td>\n",
       "      <td>24428.095232</td>\n",
       "      <td>24065.094696</td>\n",
       "      <td>20108.466066</td>\n",
       "    </tr>\n",
       "    <tr>\n",
       "      <th>2015-07-23</th>\n",
       "      <td>0</td>\n",
       "      <td>19532.0</td>\n",
       "      <td>20989.04</td>\n",
       "      <td>18015.494274</td>\n",
       "      <td>21852.187052</td>\n",
       "      <td>21566.265711</td>\n",
       "      <td>17871.044437</td>\n",
       "    </tr>\n",
       "    <tr>\n",
       "      <th>2015-07-24</th>\n",
       "      <td>0</td>\n",
       "      <td>17420.0</td>\n",
       "      <td>22755.20</td>\n",
       "      <td>18084.973453</td>\n",
       "      <td>20794.186776</td>\n",
       "      <td>20548.954160</td>\n",
       "      <td>19143.537103</td>\n",
       "    </tr>\n",
       "    <tr>\n",
       "      <th>2015-07-25</th>\n",
       "      <td>0</td>\n",
       "      <td>13558.0</td>\n",
       "      <td>13172.93</td>\n",
       "      <td>12739.066714</td>\n",
       "      <td>14475.237140</td>\n",
       "      <td>14713.923592</td>\n",
       "      <td>13445.105480</td>\n",
       "    </tr>\n",
       "    <tr>\n",
       "      <th>2015-07-26</th>\n",
       "      <td>0</td>\n",
       "      <td>0.0</td>\n",
       "      <td>0.00</td>\n",
       "      <td>-685.019580</td>\n",
       "      <td>-12.321919</td>\n",
       "      <td>1099.681531</td>\n",
       "      <td>-48.929259</td>\n",
       "    </tr>\n",
       "  </tbody>\n",
       "</table>\n",
       "</div>"
      ],
      "text/plain": [
       "           split   y_true  feef8e885b65983a6b2a2afa81790f63  \\\n",
       "2015-07-22     0  18046.0                          21096.67   \n",
       "2015-07-23     0  19532.0                          20989.04   \n",
       "2015-07-24     0  17420.0                          22755.20   \n",
       "2015-07-25     0  13558.0                          13172.93   \n",
       "2015-07-26     0      0.0                              0.00   \n",
       "\n",
       "            f15ffb80abe21be5aa49ca2f4bef1428  \\\n",
       "2015-07-22                      20676.741135   \n",
       "2015-07-23                      18015.494274   \n",
       "2015-07-24                      18084.973453   \n",
       "2015-07-25                      12739.066714   \n",
       "2015-07-26                       -685.019580   \n",
       "\n",
       "            443c753f6a53b3387028bafe49a286eb  \\\n",
       "2015-07-22                      24428.095232   \n",
       "2015-07-23                      21852.187052   \n",
       "2015-07-24                      20794.186776   \n",
       "2015-07-25                      14475.237140   \n",
       "2015-07-26                        -12.321919   \n",
       "\n",
       "            6f632e060699dce1d328412e4b83c850  12436b23a2222e4b1df46a139cef649f  \n",
       "2015-07-22                      24065.094696                      20108.466066  \n",
       "2015-07-23                      21566.265711                      17871.044437  \n",
       "2015-07-24                      20548.954160                      19143.537103  \n",
       "2015-07-25                      14713.923592                      13445.105480  \n",
       "2015-07-26                       1099.681531                        -48.929259  "
      ]
     },
     "execution_count": 15,
     "metadata": {},
     "output_type": "execute_result"
    }
   ],
   "source": [
    "results.scorer_.cv_data.head()"
   ]
  },
  {
   "cell_type": "markdown",
   "metadata": {},
   "source": [
    "We can get to the model definitions using hash in `results.scorer_.estimator_ids` dict"
   ]
  }
 ],
 "metadata": {
  "kernelspec": {
   "display_name": "Python 3",
   "language": "python",
   "name": "python3"
  },
  "language_info": {
   "codemirror_mode": {
    "name": "ipython",
    "version": 3
   },
   "file_extension": ".py",
   "mimetype": "text/x-python",
   "name": "python",
   "nbconvert_exporter": "python",
   "pygments_lexer": "ipython3",
   "version": "3.7.6"
  }
 },
 "nbformat": 4,
 "nbformat_minor": 4
}
