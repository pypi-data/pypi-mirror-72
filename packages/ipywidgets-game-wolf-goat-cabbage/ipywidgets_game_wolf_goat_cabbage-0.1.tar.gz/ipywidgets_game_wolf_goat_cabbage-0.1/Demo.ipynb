{
 "cells": [
  {
   "cell_type": "markdown",
   "metadata": {},
   "source": [
    "# Wolf-Goat-Cabbage game\n",
    "\n",
    "The goal is to make the goat, the wolf and the cabbage cross the river knowing that there are only two available spots on the boat and that the wolf cannot be left alone on a coast with the goat and the goat cannot be left alone on a coast with the cabbage.\n",
    "\n",
    "The game is available in both english and french.\n",
    "\n",
    "## English version"
   ]
  },
  {
   "cell_type": "code",
   "execution_count": 1,
   "metadata": {},
   "outputs": [
    {
     "data": {
      "application/vnd.jupyter.widget-view+json": {
       "model_id": "06be096803454d9686c5394952a6126e",
       "version_major": 2,
       "version_minor": 0
      },
      "text/plain": [
       "Grid(children=(PlayerView(children=(Visualisation(children=(HBox(children=(VBox(children=(Image(value=b'\\xff\\x…"
      ]
     },
     "metadata": {},
     "output_type": "display_data"
    }
   ],
   "source": [
    "from ipywidgets_game_wolf_goat_cabbage.__global__.en import *\n",
    "GAME(UI=True)"
   ]
  },
  {
   "cell_type": "markdown",
   "metadata": {},
   "source": [
    "The player may either interact with the game throught the buttons or by executing some code. \n",
    "\n",
    "There are the existing functions :\n",
    "* board(e)\n",
    "* unboard(e)\n",
    "* cross()\n",
    "* reset()\n",
    "\n",
    "e is the element to board, it is a string belonging to the following list :\n",
    "* 'Goat'\n",
    "* 'Wolf'\n",
    "* 'Cabbage'\n",
    "\n",
    "The parameter 'UI' allows the player to choose whether or not to display the buttons.\n",
    "\n",
    "## French version\n",
    "Available functions :\n",
    "* monter(e)\n",
    "* descendre(e)\n",
    "* traverser()\n",
    "* reset()\n",
    "\n",
    "e belong to the following list :\n",
    "* 'Chèvre'\n",
    "* 'Loup'\n",
    "* 'Chou'\n"
   ]
  },
  {
   "cell_type": "code",
   "execution_count": 4,
   "metadata": {},
   "outputs": [
    {
     "data": {
      "application/vnd.jupyter.widget-view+json": {
       "model_id": "d6c7a64969dc41a28e40f910c157c0ce",
       "version_major": 2,
       "version_minor": 0
      },
      "text/plain": [
       "Grid(children=(PlayerView(children=(Visualisation(children=(HBox(children=(VBox(children=(Image(value=b'\\xff\\x…"
      ]
     },
     "metadata": {},
     "output_type": "display_data"
    }
   ],
   "source": [
    "from ipywidgets_game_wolf_goat_cabbage.__global__.fr import *\n",
    "JEUX(UI=True)"
   ]
  },
  {
   "cell_type": "code",
   "execution_count": 4,
   "metadata": {},
   "outputs": [],
   "source": [
    "monter('Chèvre')"
   ]
  },
  {
   "cell_type": "code",
   "execution_count": 5,
   "metadata": {},
   "outputs": [],
   "source": [
    "traverser()"
   ]
  },
  {
   "cell_type": "code",
   "execution_count": 6,
   "metadata": {},
   "outputs": [],
   "source": [
    "descendre('Chèvre')"
   ]
  },
  {
   "cell_type": "code",
   "execution_count": 7,
   "metadata": {},
   "outputs": [],
   "source": [
    "reset()"
   ]
  }
 ],
 "metadata": {
  "kernelspec": {
   "display_name": "Python 3",
   "language": "python",
   "name": "python3"
  },
  "language_info": {
   "codemirror_mode": {
    "name": "ipython",
    "version": 3
   },
   "file_extension": ".py",
   "mimetype": "text/x-python",
   "name": "python",
   "nbconvert_exporter": "python",
   "pygments_lexer": "ipython3",
   "version": "3.8.3"
  }
 },
 "nbformat": 4,
 "nbformat_minor": 4
}
