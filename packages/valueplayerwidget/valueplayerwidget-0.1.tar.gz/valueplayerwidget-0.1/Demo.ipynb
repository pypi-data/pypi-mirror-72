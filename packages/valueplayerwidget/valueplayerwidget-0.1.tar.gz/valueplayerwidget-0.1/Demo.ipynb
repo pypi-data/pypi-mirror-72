{
 "cells": [
  {
   "cell_type": "markdown",
   "metadata": {},
   "source": [
    "# ValuePlayerWidget"
   ]
  },
  {
   "cell_type": "markdown",
   "metadata": {},
   "source": [
    "## Introduction\n",
    "ValuePlayerWidget is a tool to save and display the different steps of a visualisation. It allows the Player to watch all the steps leading to a final step backward and forward. It is also possible to give it a set of action buttons to display and to display the name of the executed action for each step.\n",
    "\n",
    "ValuePlayerWidget takes three parameters for its initialization :\n",
    " * 'visualisation' : this parameter is obligatory, it has to be or inheritate from a traitlets object. This will be the visualisation, le Player interacts with.\n",
    " * 'buttons' : this parameter is optionnal. It has to be a list of list. This is an example to understand its structure :\n",
    "     * buttons=[[(\"B1\",f1,0,8,10),(\"B2\",f2)],[(\"B3\",f3),(\"B4\",f4,15,\"abc\"),(\"B5\",f6,\"b\")]]\n",
    "     \n",
    "     Each list inside the main one is meant to be a column of buttons and each tupple is a button. In this example, we have two columns, the first column has two buttons and the second one has three buttons. \n",
    "     For each button, we give a tupple t in which we may find two or three elements :\n",
    "         * \"B1\" : the name of the action, it will be displayed on the buttons with the value given to the function\n",
    "         * \"f1\" : the function the button must execute when clicked\n",
    "         * args : it is optional, they are arguments to give to the function\n",
    " \n",
    "\n",
    "\n",
    "## Example"
   ]
  },
  {
   "cell_type": "code",
   "execution_count": 1,
   "metadata": {},
   "outputs": [],
   "source": [
    "from valueplayerwidget.value_player_widget import ValuePlayerWidget\n",
    "from ipywidgets import Label"
   ]
  },
  {
   "cell_type": "code",
   "execution_count": 2,
   "metadata": {},
   "outputs": [],
   "source": [
    "lab= Label(value=\"Bonjour\")"
   ]
  },
  {
   "cell_type": "code",
   "execution_count": 3,
   "metadata": {},
   "outputs": [],
   "source": [
    "femmes=[\"Elicia\",\"Ellana\",\"Ewilan\"]\n",
    "hommes=[\"Akiro\",\"Artis\",\"Bjorn\",\"Destan\",\"Duom\",\"Edwin\",\"Maniel\",\"Salim\"]\n",
    "\n",
    "def reset():\n",
    "    return \"Bonjour\"\n",
    "\n",
    "def saluer(val):\n",
    "    return \"Bonjour \"+val+\".\\n Comment vas tu ?\"\n",
    "\n",
    "def both(a,b):\n",
    "    phrase=\"Hello \"+str(a)+\" and \"+str(b)+\" !\"\n",
    "    #print(phrase)\n",
    "    return phrase\n",
    "\n",
    "res=[(\"Simple\",reset),('Both Lili and Dany',both, \"Lili\",\"Dany\")]\n",
    "filles=[]\n",
    "for p in femmes:\n",
    "    filles.append((\"Saluer \"+p,saluer,p))\n",
    "    \n",
    "garcons=[]\n",
    "for g in hommes:\n",
    "    garcons.append((\"Saluer \"+g,saluer,g))"
   ]
  },
  {
   "cell_type": "code",
   "execution_count": 4,
   "metadata": {},
   "outputs": [
    {
     "data": {
      "application/vnd.jupyter.widget-view+json": {
       "model_id": "33aaa6aec5224845a265521eff513f5d",
       "version_major": 2,
       "version_minor": 0
      },
      "text/plain": [
       "PlayerView(children=(Label(value='Bonjour'), HBox(children=(IntSlider(value=0, description='Temps :', max=0, s…"
      ]
     },
     "metadata": {},
     "output_type": "display_data"
    }
   ],
   "source": [
    "player=ValuePlayerWidget(lab,actions=[res,filles,garcons])\n",
    "player"
   ]
  },
  {
   "cell_type": "code",
   "execution_count": null,
   "metadata": {},
   "outputs": [],
   "source": []
  },
  {
   "cell_type": "code",
   "execution_count": null,
   "metadata": {},
   "outputs": [],
   "source": []
  }
 ],
 "metadata": {
  "kernelspec": {
   "display_name": "Python 3",
   "language": "python",
   "name": "python3"
  },
  "language_info": {
   "codemirror_mode": {
    "name": "ipython",
    "version": 3
   },
   "file_extension": ".py",
   "mimetype": "text/x-python",
   "name": "python",
   "nbconvert_exporter": "python",
   "pygments_lexer": "ipython3",
   "version": "3.8.3"
  }
 },
 "nbformat": 4,
 "nbformat_minor": 4
}
