{
 "cells": [
  {
   "cell_type": "markdown",
   "metadata": {},
   "source": [
    "# Data fitting and parameter estimation with PyGOM\n",
    "\n",
    "This example of parameter fitting with an SIR model is taken from the PyGOM documentation."
   ]
  },
  {
   "cell_type": "code",
   "execution_count": 1,
   "metadata": {},
   "outputs": [],
   "source": [
    "from pygom import SquareLoss, common_models\n",
    "import numpy\n",
    "import scipy.integrate\n",
    "import matplotlib.pyplot as plt\n",
    "\n",
    "from scipy.optimize import minimize"
   ]
  },
  {
   "cell_type": "code",
   "execution_count": 2,
   "metadata": {},
   "outputs": [],
   "source": [
    "# Generate some data for fitting\n",
    "\n",
    "# Standard SIR model with 2 parameters\n",
    "\n",
    "# Define the parameters\n",
    "paramEval = [('beta',0.5), ('gamma',1.0/3.0)]\n",
    "\n",
    "# initialize the model\n",
    "ode = common_models.SIR(paramEval)\n",
    "\n",
    "# Initial conditions (normalized to 1) and time scale\n",
    "x0 = [1-1.27e-6, 1.27e-6, 0]\n",
    "t = numpy.linspace(0, 70, 36)\n",
    "\n",
    "# Find the solution.\n",
    "solution = scipy.integrate.odeint(ode.ode, x0, t)\n",
    "y = solution[:,1:3].copy()\n",
    "\n"
   ]
  },
  {
   "cell_type": "markdown",
   "metadata": {},
   "source": [
    "Data over 70 days, with observations from every other day for infected and removed populations."
   ]
  },
  {
   "cell_type": "code",
   "execution_count": 3,
   "metadata": {},
   "outputs": [
    {
     "data": {
      "image/png": "[encoded data removed]",
      "text/plain": [
       "<Figure size 432x288 with 1 Axes>"
      ]
     },
     "metadata": {},
     "output_type": "display_data"
    }
   ],
   "source": [
    "plt.plot(t,y[:,0], 'bo') # infected observations\n",
    "plt.plot(t,y[:,1], 'go') # removed observations (recoverd/died)\n",
    "\n",
    "plt.show()"
   ]
  },
  {
   "cell_type": "code",
   "execution_count": 4,
   "metadata": {},
   "outputs": [
    {
     "data": {
      "image/png": "[encoded data removed]",
      "text/plain": [
       "<Figure size 432x288 with 1 Axes>"
      ]
     },
     "metadata": {},
     "output_type": "display_data"
    }
   ],
   "source": [
    "# Add noise\n",
    "numpy.random.seed(seed=6)\n",
    "noise = numpy.random.normal(0,1.e-2,[len(t),2])\n",
    "ynoise = y + noise\n",
    "ynoise[ynoise<0] = 0\n",
    "plt.plot(t,ynoise[:,0], 'bo') # infected observations\n",
    "plt.plot(t,ynoise[:,1], 'go') # removed observations (recoverd/died)\n",
    "plt.show()"
   ]
  },
  {
   "cell_type": "markdown",
   "metadata": {},
   "source": [
    "We provide a guess for $\\beta$ and $\\gamma$. \n",
    "\n",
    "This example assumes we have information about the infected and removed population, up to 50 days of the epidemic.\n"
   ]
  },
  {
   "cell_type": "code",
   "execution_count": 5,
   "metadata": {
    "collapsed": true
   },
   "outputs": [],
   "source": [
    "# Initial guess of parameters, and bounding constraints\n",
    "theta = [0.2, 0.2]\n",
    "boxBounds = [(0.0,5.0),(0.0,5.0)]\n",
    "\n",
    "objSIR = SquareLoss(theta, ode, x0, t[0], t[1::], ynoise[1::,:], ['I','R'])"
   ]
  },
  {
   "cell_type": "code",
   "execution_count": null,
   "metadata": {},
   "outputs": [],
   "source": [
    "numpy.shape(y[1::,:])"
   ]
  },
  {
   "cell_type": "code",
   "execution_count": 14,
   "metadata": {},
   "outputs": [
    {
     "data": {
      "text/plain": [
       "array([[  2.17821008e-03,  -1.00679470e-06],\n",
       "       [ -2.47455621e-06,   9.13252444e-03],\n",
       "       [  1.12706443e-02,  -4.37384808e-06],\n",
       "       [  1.63929211e-02,  -7.11209066e-06],\n",
       "       [  2.63128219e-02,   6.01824116e-03],\n",
       "       [ -9.39395899e-06,   1.23774086e-02],\n",
       "       [  1.11132106e-03,   1.29156109e-03],\n",
       "       [  7.61330447e-04,  -3.41105637e-05],\n",
       "       [  6.34233147e-03,   8.10664427e-03],\n",
       "       [  3.54819616e-03,   1.81260357e-02],\n",
       "       [ -4.97637679e-05,  -9.71327842e-05],\n",
       "       [  8.24674509e-03,  -1.36578906e-04],\n",
       "       [  1.56451751e-02,   7.12736462e-03],\n",
       "       [ -1.35241634e-04,   5.34240959e-03],\n",
       "       [ -1.88688164e-04,  -3.75633163e-04],\n",
       "       [  8.57311457e-03,   9.43160063e-03],\n",
       "       [  1.14524286e-03,  -2.18839553e-04],\n",
       "       [ -5.11689262e-04,  -1.02450525e-03],\n",
       "       [ -7.12945453e-04,   2.33801084e-03],\n",
       "       [  1.38520671e-02,  -1.99422683e-03],\n",
       "       [ -1.38068974e-03,   9.55687504e-03],\n",
       "       [ -1.26472040e-03,  -3.87155735e-03],\n",
       "       [  1.21880119e-02,  -5.38662162e-03],\n",
       "       [ -3.67585158e-03,  -7.48417267e-03],\n",
       "       [  3.59212329e-03,   1.07325007e-02],\n",
       "       [ -3.75007984e-03,   3.95530256e-03],\n",
       "       [ -4.70901084e-03,   2.33513523e-02],\n",
       "       [  1.50336885e-02,  -5.97889180e-03],\n",
       "       [  5.28963928e-03,   9.36008708e-03],\n",
       "       [  4.26986908e-03,  -7.63896652e-03],\n",
       "       [ -1.61470825e-03,   7.18530320e-03],\n",
       "       [  4.45419591e-03,  -8.68257315e-03],\n",
       "       [  4.49120761e-03,  -1.02971195e-02],\n",
       "       [ -2.12870639e-02,   1.55014384e-03],\n",
       "       [  9.56873629e-03,   4.19599999e-03]])"
      ]
     },
     "execution_count": 14,
     "metadata": {},
     "output_type": "execute_result"
    }
   ],
   "source": [
    "objSIR.residual()"
   ]
  },
  {
   "cell_type": "code",
   "execution_count": null,
   "metadata": {
    "collapsed": true
   },
   "outputs": [],
   "source": []
  },
  {
   "cell_type": "code",
   "execution_count": null,
   "metadata": {
    "collapsed": true
   },
   "outputs": [],
   "source": []
  },
  {
   "cell_type": "code",
   "execution_count": null,
   "metadata": {
    "collapsed": true
   },
   "outputs": [],
   "source": []
  },
  {
   "cell_type": "code",
   "execution_count": 11,
   "metadata": {},
   "outputs": [
    {
     "name": "stdout",
     "output_type": "stream",
     "text": [
      "     fun: 0.004952043094666394\n",
      "     jac: array([ 0.00327445, -0.0030997 ])\n",
      " message: 'Optimization terminated successfully.'\n",
      "    nfev: 27\n",
      "     nit: 18\n",
      "    njev: 17\n",
      "  status: 0\n",
      " success: True\n",
      "       x: array([ 0.50069402,  0.33393774])\n"
     ]
    }
   ],
   "source": [
    "# perform optimization\n",
    "res = minimize(fun=objSIR.cost,\n",
    "                jac=objSIR.sensitivity,\n",
    "                x0=theta,\n",
    "                bounds=boxBounds,\n",
    "                method='SLSQP')\n",
    "print(res)"
   ]
  },
  {
   "cell_type": "markdown",
   "metadata": {},
   "source": [
    "Our estimated parameters, with the provided data, are:"
   ]
  },
  {
   "cell_type": "code",
   "execution_count": 7,
   "metadata": {},
   "outputs": [
    {
     "data": {
      "text/plain": [
       "array([ 0.50069402,  0.33393774])"
      ]
     },
     "execution_count": 7,
     "metadata": {},
     "output_type": "execute_result"
    }
   ],
   "source": [
    "res.x"
   ]
  },
  {
   "cell_type": "markdown",
   "metadata": {},
   "source": [
    "We can now simulate the epidemic with the fitted parameters."
   ]
  },
  {
   "cell_type": "code",
   "execution_count": 8,
   "metadata": {
    "scrolled": true
   },
   "outputs": [
    {
     "data": {
      "image/png": "[encoded data removed]",
      "text/plain": [
       "<Figure size 432x288 with 3 Axes>"
      ]
     },
     "metadata": {},
     "output_type": "display_data"
    },
    {
     "name": "stdout",
     "output_type": "stream",
     "text": [
      "Peak infection (days) 74.3243243243\n",
      "R0 (beta/gamma) =  1.49936341506\n"
     ]
    }
   ],
   "source": [
    "# model with fitted parameters \n",
    "ode_fit = common_models.SIR({'beta':res.x[0], 'gamma':res.x[1]})\n",
    "x0_fit = [1-1.27e-6, 1.27e-6, 0]\n",
    "t_fit = numpy.linspace(0, 150, 1000)\n",
    "ode_fit.initial_values = (x0_fit, t_fit[0])\n",
    "sol_fit = ode_fit.integrate(t_fit[1::])\n",
    "ode_fit.plot()\n",
    "\n",
    "peak_i = numpy.argmax(sol_fit[:,1])\n",
    "print('Peak infection (days)', t_fit[peak_i])\n",
    "print('R0 (beta/gamma) = ', res.x[0]/res.x[1])"
   ]
  },
  {
   "cell_type": "markdown",
   "metadata": {},
   "source": [
    "## Important points for consideration when parameter fitting\n",
    "\n",
    "- Cleaned data\n",
    "- Missing data\n",
    "- Restrictions due to modelling assumptions\n",
    "\n",
    "It is important to refer back to epidemiological information about the diseases."
   ]
  },
  {
   "cell_type": "code",
   "execution_count": 10,
   "metadata": {},
   "outputs": [
    {
     "data": {
      "image/png": "[encoded data removed]",
      "text/plain": [
       "<Figure size 432x288 with 1 Axes>"
      ]
     },
     "metadata": {},
     "output_type": "display_data"
    }
   ],
   "source": [
    "plt.plot(t,ynoise[:,0], 'bo') # infected observations\n",
    "plt.plot(t,ynoise[:,1], 'go') # removed observations (recoverd/died)\n",
    "plt.plot(t_fit, sol_fit)\n",
    "plt.show(())"
   ]
  },
  {
   "cell_type": "code",
   "execution_count": null,
   "metadata": {
    "collapsed": true
   },
   "outputs": [],
   "source": []
  }
 ],
 "metadata": {
  "kernelspec": {
   "display_name": "Python 3",
   "language": "python",
   "name": "python3"
  },
  "language_info": {
   "codemirror_mode": {
    "name": "ipython",
    "version": 3
   },
   "file_extension": ".py",
   "mimetype": "text/x-python",
   "name": "python",
   "nbconvert_exporter": "python",
   "pygments_lexer": "ipython3",
   "version": "3.6.7"
  }
 },
 "nbformat": 4,
 "nbformat_minor": 2
}
