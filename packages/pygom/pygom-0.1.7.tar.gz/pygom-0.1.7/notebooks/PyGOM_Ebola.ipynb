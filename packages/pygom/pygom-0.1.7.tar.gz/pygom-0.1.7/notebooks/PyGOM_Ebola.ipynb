{
 "cells": [
  {
   "cell_type": "markdown",
   "metadata": {},
   "source": [
    "# Ebola implementation in PyGOM\n",
    "PyGOM — A Python Package for Simplifying Modelling with Systems of Ordinary Differential Equations https://arxiv.org/pdf/1803.06934.pdf\n",
    "\n",
    "This model is taken from the Legrand paper (ref) for modelling Ebola."
   ]
  },
  {
   "cell_type": "code",
   "execution_count": 1,
   "metadata": {},
   "outputs": [],
   "source": [
    "import numpy\n",
    "from pygom import common_models"
   ]
  },
  {
   "cell_type": "code",
   "execution_count": 2,
   "metadata": {
    "collapsed": true
   },
   "outputs": [],
   "source": [
    "# initial conditions and parameters\n",
    "\n",
    "x0 = [1.0, 3.0/200000.0, 0.0, 0.0, 0.0, 0.0, 0.0]\n",
    "\n",
    "t = numpy.linspace(1, 25, 100)\n",
    "\n",
    "ode = common_models.Legrand_Ebola_SEIHFR([\n",
    "                                    ('beta_I',0.588),     # transmission \n",
    "                                    ('beta_H',0.794),     # transmission within hospital \n",
    "                                    ('beta_F',7.653),     # transmission at funeral\n",
    "                                    ('omega_I',10.0/7.0), # duration from exposure to symptoms (inv)\n",
    "                                    ('omega_D',9.6/7.0),  # duration from hospitalization to death (inv)\n",
    "                                    ('omega_H',5.0/7.0),  # duration from symptoms to hospitalization (inv)\n",
    "                                    ('omega_F',2.0/7.0),  # duration from hospitalization to death (inv)\n",
    "                                    ('alphaInv',7.0/7.0), # incubation period\n",
    "                                    ('delta',0.81),       # fatality rate\n",
    "                                    ('theta',0.80),       # hospitalization rate\n",
    "                                    ('kappa',300.0),  \n",
    "                                    ('interventionTime',7.0) # delay before introducing intervention\n",
    "                                    ])\n",
    "ode.initial_values = (x0, t[0])"
   ]
  },
  {
   "cell_type": "code",
   "execution_count": 3,
   "metadata": {},
   "outputs": [
    {
     "data": {
      "image/png": "[encoded data removed]",
      "text/plain": [
       "<Figure size 432x288 with 9 Axes>"
      ]
     },
     "metadata": {},
     "output_type": "display_data"
    }
   ],
   "source": [
    "solution = ode.integrate(t)\n",
    "\n",
    "ode.plot()"
   ]
  },
  {
   "cell_type": "code",
   "execution_count": null,
   "metadata": {
    "collapsed": true
   },
   "outputs": [],
   "source": [
    "def LegEb(betaI=0.588, betaH=0.794, betaF=7.653,\n",
    "          omegaI=10.0/7.0, omegaD=9.6/7.0, omegaH=5./7.0, omegaF=2.0/7.0,\n",
    "          alphaInv=7.0/7.0, delta=0.81, theta=0.8, kappa=300.0, intT=7.0,\n",
    "          time=numpy.linspace(1, 50, 100),\n",
    "          x0=[1.0, 3.0/200000.0, 0.0, 0.0, 0.0, 0.0, 0.0]):\n",
    "    \n",
    "    ode = common_models.Legrand_Ebola_SEIHFR([\n",
    "                                    ('beta_I',betaI),     # transmission \n",
    "                                    ('beta_H',betaH),     # transmission within hospital \n",
    "                                    ('beta_F',betaF),     # transmission at funeral\n",
    "                                    ('omega_I',omegaI), # duration from exposure to symptoms (inv)\n",
    "                                    ('omega_D',omegaD),  # duration from hospitalization to death (inv)\n",
    "                                    ('omega_H',omegaH),  # duration from symptoms to hospitalization (inv)\n",
    "                                    ('omega_F',omegaF),  # duration from hospitalization to death (inv)\n",
    "                                    ('alphaInv',alphaInv), # incubation period\n",
    "                                    ('delta',delta),       # fatality rate\n",
    "                                    ('theta',theta),       # hospitalization rate\n",
    "                                    ('kappa',kappa),  \n",
    "                                    ('interventionTime',intT) # delay before introducing intervention\n",
    "                                    ])\n",
    "    ode.initial_values = (x0, t[0])\n",
    "    solution = ode.integrate(t)\n",
    "    ode.plot()"
   ]
  },
  {
   "cell_type": "markdown",
   "metadata": {},
   "source": [
    "If we change the time to intervention, assuming that intervention regarding funteral introduced earlier"
   ]
  },
  {
   "cell_type": "code",
   "execution_count": null,
   "metadata": {},
   "outputs": [],
   "source": [
    "LegEb(intT=4.0)"
   ]
  },
  {
   "cell_type": "code",
   "execution_count": null,
   "metadata": {
    "collapsed": true
   },
   "outputs": [],
   "source": []
  }
 ],
 "metadata": {
  "kernelspec": {
   "display_name": "Python 3",
   "language": "python",
   "name": "python3"
  },
  "language_info": {
   "codemirror_mode": {
    "name": "ipython",
    "version": 3
   },
   "file_extension": ".py",
   "mimetype": "text/x-python",
   "name": "python",
   "nbconvert_exporter": "python",
   "pygments_lexer": "ipython3",
   "version": "3.6.7"
  }
 },
 "nbformat": 4,
 "nbformat_minor": 2
}
